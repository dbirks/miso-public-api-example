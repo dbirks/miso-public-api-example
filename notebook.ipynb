{
 "cells": [
  {
   "cell_type": "code",
   "execution_count": null,
   "metadata": {},
   "outputs": [],
   "source": [
    "import getpass\n",
    "import pandas as pd\n",
    "import urllib.request\n",
    "import json\n"
   ]
  },
  {
   "cell_type": "code",
   "execution_count": null,
   "metadata": {},
   "outputs": [],
   "source": [
    "subscription_key = getpass.getpass(prompt='Enter your subscription key: ', stream=None)"
   ]
  },
  {
   "cell_type": "code",
   "execution_count": null,
   "metadata": {},
   "outputs": [],
   "source": [
    "\n",
    "date = input(\"Enter date in YYYY-MM-DD format: \")\n",
    "\n",
    "try:\n",
    "    url = \"https://apim.misoenergy.org/pricing/v1/day-ahead/{date}/asm-exante\"\n",
    "\n",
    "    headers ={\n",
    "    # Request headers\n",
    "    'Cache-Control': 'no-cache',\n",
    "    'Ocp-Apim-Subscription-Key': subscription_key,\n",
    "    }\n",
    "\n",
    "    req = urllib.request.Request(url, headers)\n",
    "\n",
    "    req.get_method = lambda: 'GET'\n",
    "    response = urllib.request.urlopen(req)\n",
    "    print(response.getcode())\n",
    "    print(response.read())\n",
    "except Exception as e:\n",
    "    print(e)"
   ]
  }
 ],
 "metadata": {
  "language_info": {
   "name": "python"
  }
 },
 "nbformat": 4,
 "nbformat_minor": 2
}
